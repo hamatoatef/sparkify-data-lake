{
 "cells": [
  {
   "cell_type": "markdown",
   "id": "4f6ac749-0f2c-4f1c-8fd9-b5a840c10fb0",
   "metadata": {},
   "source": [
    "# Sparkify Data Lake"
   ]
  },
  {
   "cell_type": "markdown",
   "id": "95953f6e-f39a-4109-bb19-3c97e4e23d90",
   "metadata": {},
   "source": [
    "### import important libraries"
   ]
  },
  {
   "cell_type": "code",
   "execution_count": 1,
   "id": "95f9c137-310d-41e9-b265-52e65a26117f",
   "metadata": {
    "execution": {
     "iopub.execute_input": "2022-10-26T06:37:22.151087Z",
     "iopub.status.busy": "2022-10-26T06:37:22.150568Z",
     "iopub.status.idle": "2022-10-26T06:37:48.702205Z",
     "shell.execute_reply": "2022-10-26T06:37:48.701587Z",
     "shell.execute_reply.started": "2022-10-26T06:37:22.151032Z"
    },
    "tags": []
   },
   "outputs": [
    {
     "data": {
      "application/vnd.jupyter.widget-view+json": {
       "model_id": "f1bedf4c4c294a758a801f3859860138",
       "version_major": 2,
       "version_minor": 0
      },
      "text/plain": [
       "VBox()"
      ]
     },
     "metadata": {},
     "output_type": "display_data"
    },
    {
     "name": "stdout",
     "output_type": "stream",
     "text": [
      "Starting Spark application\n"
     ]
    },
    {
     "data": {
      "text/html": [
       "<table>\n",
       "<tr><th>ID</th><th>YARN Application ID</th><th>Kind</th><th>State</th><th>Spark UI</th><th>Driver log</th><th>Current session?</th></tr><tr><td>0</td><td>application_1666765975122_0001</td><td>pyspark</td><td>idle</td><td><a target=\"_blank\" href=\"http://ip-172-31-82-106.ec2.internal:20888/proxy/application_1666765975122_0001/\">Link</a></td><td><a target=\"_blank\" href=\"http://ip-172-31-91-193.ec2.internal:8042/node/containerlogs/container_1666765975122_0001_01_000001/livy\">Link</a></td><td>✔</td></tr></table>"
      ],
      "text/plain": [
       "<IPython.core.display.HTML object>"
      ]
     },
     "metadata": {},
     "output_type": "display_data"
    },
    {
     "data": {
      "application/vnd.jupyter.widget-view+json": {
       "model_id": "",
       "version_major": 2,
       "version_minor": 0
      },
      "text/plain": [
       "FloatProgress(value=0.0, bar_style='info', description='Progress:', layout=Layout(height='25px', width='50%'),…"
      ]
     },
     "metadata": {},
     "output_type": "display_data"
    },
    {
     "name": "stdout",
     "output_type": "stream",
     "text": [
      "SparkSession available as 'spark'.\n"
     ]
    },
    {
     "data": {
      "application/vnd.jupyter.widget-view+json": {
       "model_id": "",
       "version_major": 2,
       "version_minor": 0
      },
      "text/plain": [
       "FloatProgress(value=0.0, bar_style='info', description='Progress:', layout=Layout(height='25px', width='50%'),…"
      ]
     },
     "metadata": {},
     "output_type": "display_data"
    }
   ],
   "source": [
    "# import important libraries\n",
    "import configparser\n",
    "from datetime import datetime\n",
    "import os\n",
    "from pyspark.sql import SparkSession\n",
    "from pyspark.sql.functions import udf, col\n",
    "from pyspark.sql.functions import year, month, dayofmonth, hour, weekofyear, date_format\n",
    "from pyspark.sql.types import IntegerType\n",
    "from pyspark.sql import functions as F"
   ]
  },
  {
   "cell_type": "markdown",
   "id": "54ad3cbb-b74b-4c75-9faa-078577be097d",
   "metadata": {},
   "source": [
    "### set input data path and output data path"
   ]
  },
  {
   "cell_type": "code",
   "execution_count": 2,
   "id": "d3ea8f1c-f7e6-40dc-8f0b-19ab47c2e7d9",
   "metadata": {
    "execution": {
     "iopub.execute_input": "2022-10-26T06:37:55.350790Z",
     "iopub.status.busy": "2022-10-26T06:37:55.350486Z",
     "iopub.status.idle": "2022-10-26T06:37:55.652980Z",
     "shell.execute_reply": "2022-10-26T06:37:55.651995Z",
     "shell.execute_reply.started": "2022-10-26T06:37:55.350763Z"
    },
    "tags": []
   },
   "outputs": [
    {
     "data": {
      "application/vnd.jupyter.widget-view+json": {
       "model_id": "eacccac33269447497bf3b2b475b4d63",
       "version_major": 2,
       "version_minor": 0
      },
      "text/plain": [
       "VBox()"
      ]
     },
     "metadata": {},
     "output_type": "display_data"
    },
    {
     "data": {
      "application/vnd.jupyter.widget-view+json": {
       "model_id": "",
       "version_major": 2,
       "version_minor": 0
      },
      "text/plain": [
       "FloatProgress(value=0.0, bar_style='info', description='Progress:', layout=Layout(height='25px', width='50%'),…"
      ]
     },
     "metadata": {},
     "output_type": "display_data"
    }
   ],
   "source": [
    "# set input data path\n",
    "input_data = \"s3a://udacity-dend/\"\n",
    "# set output data path\n",
    "output_data = \"s3://ahmed-datalake-sparkify/\""
   ]
  },
  {
   "cell_type": "markdown",
   "id": "d4c9bbf7-538e-4d9b-98aa-bfffd4625a49",
   "metadata": {},
   "source": [
    "## process_song_data\n",
    "\n",
    "> create songs table\n",
    "\n",
    "> create artists table\n",
    "\n",
    "> write songs table to parquet files partitioned by year and artist\n",
    "\n",
    "> write artists table to parquet files"
   ]
  },
  {
   "cell_type": "code",
   "execution_count": 3,
   "id": "0e7bbc8d-4b30-4d0d-ad1c-46a126b41823",
   "metadata": {
    "execution": {
     "iopub.execute_input": "2022-10-26T06:38:09.313997Z",
     "iopub.status.busy": "2022-10-26T06:38:09.313554Z",
     "iopub.status.idle": "2022-10-26T06:38:09.489447Z",
     "shell.execute_reply": "2022-10-26T06:38:09.488788Z",
     "shell.execute_reply.started": "2022-10-26T06:38:09.313961Z"
    },
    "tags": []
   },
   "outputs": [
    {
     "data": {
      "application/vnd.jupyter.widget-view+json": {
       "model_id": "0e36073ae9bb40e69d4a3da5a6412824",
       "version_major": 2,
       "version_minor": 0
      },
      "text/plain": [
       "VBox()"
      ]
     },
     "metadata": {},
     "output_type": "display_data"
    },
    {
     "data": {
      "application/vnd.jupyter.widget-view+json": {
       "model_id": "",
       "version_major": 2,
       "version_minor": 0
      },
      "text/plain": [
       "FloatProgress(value=0.0, bar_style='info', description='Progress:', layout=Layout(height='25px', width='50%'),…"
      ]
     },
     "metadata": {},
     "output_type": "display_data"
    }
   ],
   "source": [
    "# get filepath to song data file\n",
    "song_data = os.path.join(input_data, 'song_data/*/*/*/*.json')"
   ]
  },
  {
   "cell_type": "code",
   "execution_count": 4,
   "id": "77b4c79d-5f80-42d6-876b-db360ff4db47",
   "metadata": {
    "execution": {
     "iopub.execute_input": "2022-10-26T06:38:17.647241Z",
     "iopub.status.busy": "2022-10-26T06:38:17.646932Z",
     "iopub.status.idle": "2022-10-26T06:49:53.515713Z",
     "shell.execute_reply": "2022-10-26T06:49:53.514723Z",
     "shell.execute_reply.started": "2022-10-26T06:38:17.647213Z"
    },
    "tags": []
   },
   "outputs": [
    {
     "data": {
      "application/vnd.jupyter.widget-view+json": {
       "model_id": "b3058dd78f434fbca9ff3d1d4d334f97",
       "version_major": 2,
       "version_minor": 0
      },
      "text/plain": [
       "VBox()"
      ]
     },
     "metadata": {},
     "output_type": "display_data"
    },
    {
     "data": {
      "application/vnd.jupyter.widget-view+json": {
       "model_id": "",
       "version_major": 2,
       "version_minor": 0
      },
      "text/plain": [
       "FloatProgress(value=0.0, bar_style='info', description='Progress:', layout=Layout(height='25px', width='50%'),…"
      ]
     },
     "metadata": {},
     "output_type": "display_data"
    }
   ],
   "source": [
    "# read song data file\n",
    "df = spark.read.json(song_data)"
   ]
  },
  {
   "cell_type": "code",
   "execution_count": 5,
   "id": "1a27e10f-74e5-4a7c-80dc-265a0fc21a99",
   "metadata": {
    "execution": {
     "iopub.execute_input": "2022-10-26T06:50:37.143870Z",
     "iopub.status.busy": "2022-10-26T06:50:37.143532Z",
     "iopub.status.idle": "2022-10-26T06:50:37.370842Z",
     "shell.execute_reply": "2022-10-26T06:50:37.369028Z",
     "shell.execute_reply.started": "2022-10-26T06:50:37.143838Z"
    },
    "tags": []
   },
   "outputs": [
    {
     "data": {
      "application/vnd.jupyter.widget-view+json": {
       "model_id": "722f9d1485244513a1066a08bc9f38ac",
       "version_major": 2,
       "version_minor": 0
      },
      "text/plain": [
       "VBox()"
      ]
     },
     "metadata": {},
     "output_type": "display_data"
    },
    {
     "data": {
      "application/vnd.jupyter.widget-view+json": {
       "model_id": "",
       "version_major": 2,
       "version_minor": 0
      },
      "text/plain": [
       "FloatProgress(value=0.0, bar_style='info', description='Progress:', layout=Layout(height='25px', width='50%'),…"
      ]
     },
     "metadata": {},
     "output_type": "display_data"
    }
   ],
   "source": [
    "# extract columns to create songs table\n",
    "songs_table = df.select(['song_id','title','artist_id','year','duration'])"
   ]
  },
  {
   "cell_type": "code",
   "execution_count": 6,
   "id": "243a6d03-57a8-49cc-b5e8-f17219d847a4",
   "metadata": {
    "execution": {
     "iopub.execute_input": "2022-10-26T06:50:48.304259Z",
     "iopub.status.busy": "2022-10-26T06:50:48.303935Z",
     "iopub.status.idle": "2022-10-26T06:57:42.586339Z",
     "shell.execute_reply": "2022-10-26T06:57:42.585247Z",
     "shell.execute_reply.started": "2022-10-26T06:50:48.304230Z"
    },
    "tags": []
   },
   "outputs": [
    {
     "data": {
      "application/vnd.jupyter.widget-view+json": {
       "model_id": "cda6045ded494ac09bd71c0ab09e1183",
       "version_major": 2,
       "version_minor": 0
      },
      "text/plain": [
       "VBox()"
      ]
     },
     "metadata": {},
     "output_type": "display_data"
    },
    {
     "data": {
      "application/vnd.jupyter.widget-view+json": {
       "model_id": "",
       "version_major": 2,
       "version_minor": 0
      },
      "text/plain": [
       "FloatProgress(value=0.0, bar_style='info', description='Progress:', layout=Layout(height='25px', width='50%'),…"
      ]
     },
     "metadata": {},
     "output_type": "display_data"
    }
   ],
   "source": [
    "# write songs table to parquet files partitioned by year and artist\n",
    "songs_table.write.parquet(os.path.join(output_data, 'songs'), partitionBy=['year', 'artist_id'])"
   ]
  },
  {
   "cell_type": "code",
   "execution_count": 7,
   "id": "a2a75678-b6c9-4cb7-9061-a6f199da9bb6",
   "metadata": {
    "execution": {
     "iopub.execute_input": "2022-10-26T06:58:28.483977Z",
     "iopub.status.busy": "2022-10-26T06:58:28.483674Z",
     "iopub.status.idle": "2022-10-26T06:58:28.680174Z",
     "shell.execute_reply": "2022-10-26T06:58:28.679292Z",
     "shell.execute_reply.started": "2022-10-26T06:58:28.483951Z"
    },
    "tags": []
   },
   "outputs": [
    {
     "data": {
      "application/vnd.jupyter.widget-view+json": {
       "model_id": "5e6469f5d87b4ec6bdebd1d7935c3ee3",
       "version_major": 2,
       "version_minor": 0
      },
      "text/plain": [
       "VBox()"
      ]
     },
     "metadata": {},
     "output_type": "display_data"
    },
    {
     "data": {
      "application/vnd.jupyter.widget-view+json": {
       "model_id": "",
       "version_major": 2,
       "version_minor": 0
      },
      "text/plain": [
       "FloatProgress(value=0.0, bar_style='info', description='Progress:', layout=Layout(height='25px', width='50%'),…"
      ]
     },
     "metadata": {},
     "output_type": "display_data"
    }
   ],
   "source": [
    "# extract columns to create artists table\n",
    "artists_table = df.select(['artist_id', 'artist_name', 'artist_location', 'artist_latitude', 'artist_longitude'])"
   ]
  },
  {
   "cell_type": "code",
   "execution_count": 8,
   "id": "2c6f39bb-60dd-49ad-b6b0-dbf13708fb67",
   "metadata": {
    "execution": {
     "iopub.execute_input": "2022-10-26T06:58:41.946219Z",
     "iopub.status.busy": "2022-10-26T06:58:41.945916Z",
     "iopub.status.idle": "2022-10-26T07:03:24.920883Z",
     "shell.execute_reply": "2022-10-26T07:03:24.919750Z",
     "shell.execute_reply.started": "2022-10-26T06:58:41.946191Z"
    },
    "tags": []
   },
   "outputs": [
    {
     "data": {
      "application/vnd.jupyter.widget-view+json": {
       "model_id": "f0977f0d2ab34fdc8399d14fff008f8c",
       "version_major": 2,
       "version_minor": 0
      },
      "text/plain": [
       "VBox()"
      ]
     },
     "metadata": {},
     "output_type": "display_data"
    },
    {
     "data": {
      "application/vnd.jupyter.widget-view+json": {
       "model_id": "",
       "version_major": 2,
       "version_minor": 0
      },
      "text/plain": [
       "FloatProgress(value=0.0, bar_style='info', description='Progress:', layout=Layout(height='25px', width='50%'),…"
      ]
     },
     "metadata": {},
     "output_type": "display_data"
    }
   ],
   "source": [
    "# write artists table to parquet files\n",
    "artists_table.write.parquet(os.path.join(output_data, 'artists'))"
   ]
  },
  {
   "cell_type": "markdown",
   "id": "188d1060-2d25-42d7-a38d-992a9e7447cd",
   "metadata": {},
   "source": [
    "## process_log_data\n",
    "\n",
    "> extract columns for users table\n",
    "\n",
    "> write users table to parquet files\n",
    "\n",
    "> extract columns to create time table\n",
    "\n",
    "> write time table to parquet files partitioned by year and month\n",
    "\n",
    "> extract columns from joined song and log datasets to create songplays table \n",
    "\n",
    "> write songplays table to parquet files partitioned by year and month"
   ]
  },
  {
   "cell_type": "code",
   "execution_count": 9,
   "id": "4da4f924-ffec-4a6d-aefa-f4c16333b13f",
   "metadata": {
    "execution": {
     "iopub.execute_input": "2022-10-26T07:03:51.612726Z",
     "iopub.status.busy": "2022-10-26T07:03:51.612418Z",
     "iopub.status.idle": "2022-10-26T07:03:51.882100Z",
     "shell.execute_reply": "2022-10-26T07:03:51.881144Z",
     "shell.execute_reply.started": "2022-10-26T07:03:51.612698Z"
    },
    "tags": []
   },
   "outputs": [
    {
     "data": {
      "application/vnd.jupyter.widget-view+json": {
       "model_id": "c7650ae44c154d3a85f96df5cce6e910",
       "version_major": 2,
       "version_minor": 0
      },
      "text/plain": [
       "VBox()"
      ]
     },
     "metadata": {},
     "output_type": "display_data"
    },
    {
     "data": {
      "application/vnd.jupyter.widget-view+json": {
       "model_id": "",
       "version_major": 2,
       "version_minor": 0
      },
      "text/plain": [
       "FloatProgress(value=0.0, bar_style='info', description='Progress:', layout=Layout(height='25px', width='50%'),…"
      ]
     },
     "metadata": {},
     "output_type": "display_data"
    }
   ],
   "source": [
    "# get filepath to log data file\n",
    "log_data = os.path.join(input_data, 'log_data/*/*/*.json')"
   ]
  },
  {
   "cell_type": "code",
   "execution_count": 10,
   "id": "a8d43cae-fa67-4da7-a93a-5cd65d345bd3",
   "metadata": {
    "execution": {
     "iopub.execute_input": "2022-10-26T07:04:01.823660Z",
     "iopub.status.busy": "2022-10-26T07:04:01.823272Z",
     "iopub.status.idle": "2022-10-26T07:04:11.583601Z",
     "shell.execute_reply": "2022-10-26T07:04:11.582925Z",
     "shell.execute_reply.started": "2022-10-26T07:04:01.823611Z"
    },
    "tags": []
   },
   "outputs": [
    {
     "data": {
      "application/vnd.jupyter.widget-view+json": {
       "model_id": "b07e4ce942e44cb9b4cf6aaaaf3e4a7d",
       "version_major": 2,
       "version_minor": 0
      },
      "text/plain": [
       "VBox()"
      ]
     },
     "metadata": {},
     "output_type": "display_data"
    },
    {
     "data": {
      "application/vnd.jupyter.widget-view+json": {
       "model_id": "",
       "version_major": 2,
       "version_minor": 0
      },
      "text/plain": [
       "FloatProgress(value=0.0, bar_style='info', description='Progress:', layout=Layout(height='25px', width='50%'),…"
      ]
     },
     "metadata": {},
     "output_type": "display_data"
    }
   ],
   "source": [
    "# read log data file\n",
    "df1 = spark.read.json(log_data)"
   ]
  },
  {
   "cell_type": "code",
   "execution_count": 11,
   "id": "807cd3ea-cf26-44ee-8cac-4f903a97b3b4",
   "metadata": {
    "execution": {
     "iopub.execute_input": "2022-10-26T07:04:28.941368Z",
     "iopub.status.busy": "2022-10-26T07:04:28.940989Z",
     "iopub.status.idle": "2022-10-26T07:04:29.379592Z",
     "shell.execute_reply": "2022-10-26T07:04:29.377755Z",
     "shell.execute_reply.started": "2022-10-26T07:04:28.941335Z"
    },
    "tags": []
   },
   "outputs": [
    {
     "data": {
      "application/vnd.jupyter.widget-view+json": {
       "model_id": "f81224f1156b45e69f92eac6091efc99",
       "version_major": 2,
       "version_minor": 0
      },
      "text/plain": [
       "VBox()"
      ]
     },
     "metadata": {},
     "output_type": "display_data"
    },
    {
     "data": {
      "application/vnd.jupyter.widget-view+json": {
       "model_id": "",
       "version_major": 2,
       "version_minor": 0
      },
      "text/plain": [
       "FloatProgress(value=0.0, bar_style='info', description='Progress:', layout=Layout(height='25px', width='50%'),…"
      ]
     },
     "metadata": {},
     "output_type": "display_data"
    }
   ],
   "source": [
    "# filter by actions for song plays\n",
    "df1 = df1.where(df1.page == 'NextSong')"
   ]
  },
  {
   "cell_type": "code",
   "execution_count": 12,
   "id": "4a0a1679-3424-4cec-bbcb-6e881adf1fa6",
   "metadata": {
    "execution": {
     "iopub.execute_input": "2022-10-26T07:04:38.241837Z",
     "iopub.status.busy": "2022-10-26T07:04:38.241495Z",
     "iopub.status.idle": "2022-10-26T07:04:38.483760Z",
     "shell.execute_reply": "2022-10-26T07:04:38.483100Z",
     "shell.execute_reply.started": "2022-10-26T07:04:38.241805Z"
    },
    "tags": []
   },
   "outputs": [
    {
     "data": {
      "application/vnd.jupyter.widget-view+json": {
       "model_id": "b1c694b482d7445991a34aa325a669cc",
       "version_major": 2,
       "version_minor": 0
      },
      "text/plain": [
       "VBox()"
      ]
     },
     "metadata": {},
     "output_type": "display_data"
    },
    {
     "data": {
      "application/vnd.jupyter.widget-view+json": {
       "model_id": "",
       "version_major": 2,
       "version_minor": 0
      },
      "text/plain": [
       "FloatProgress(value=0.0, bar_style='info', description='Progress:', layout=Layout(height='25px', width='50%'),…"
      ]
     },
     "metadata": {},
     "output_type": "display_data"
    }
   ],
   "source": [
    "# extract columns for users table \n",
    "users_table = df1.select(['userId', 'firstName', 'lastName', 'gender', 'level'])"
   ]
  },
  {
   "cell_type": "code",
   "execution_count": 13,
   "id": "434518b4-9b0c-4e01-af24-5028fc1e3758",
   "metadata": {
    "execution": {
     "iopub.execute_input": "2022-10-26T07:04:47.474512Z",
     "iopub.status.busy": "2022-10-26T07:04:47.471282Z",
     "iopub.status.idle": "2022-10-26T07:04:47.699755Z",
     "shell.execute_reply": "2022-10-26T07:04:47.698571Z",
     "shell.execute_reply.started": "2022-10-26T07:04:47.474406Z"
    },
    "tags": []
   },
   "outputs": [
    {
     "data": {
      "application/vnd.jupyter.widget-view+json": {
       "model_id": "5f7abf8e2de24c6cae66d9ba556e5ca8",
       "version_major": 2,
       "version_minor": 0
      },
      "text/plain": [
       "VBox()"
      ]
     },
     "metadata": {},
     "output_type": "display_data"
    },
    {
     "data": {
      "application/vnd.jupyter.widget-view+json": {
       "model_id": "",
       "version_major": 2,
       "version_minor": 0
      },
      "text/plain": [
       "FloatProgress(value=0.0, bar_style='info', description='Progress:', layout=Layout(height='25px', width='50%'),…"
      ]
     },
     "metadata": {},
     "output_type": "display_data"
    }
   ],
   "source": [
    "# drop duplicates from use\n",
    "users_table = users_table.drop_duplicates(subset=['userId'])"
   ]
  },
  {
   "cell_type": "code",
   "execution_count": 14,
   "id": "bb2ab7b2-b915-474d-b78d-bac089263a05",
   "metadata": {
    "execution": {
     "iopub.execute_input": "2022-10-26T07:04:56.963164Z",
     "iopub.status.busy": "2022-10-26T07:04:56.962855Z",
     "iopub.status.idle": "2022-10-26T07:05:02.754206Z",
     "shell.execute_reply": "2022-10-26T07:05:02.753279Z",
     "shell.execute_reply.started": "2022-10-26T07:04:56.963138Z"
    },
    "tags": []
   },
   "outputs": [
    {
     "data": {
      "application/vnd.jupyter.widget-view+json": {
       "model_id": "dc0a2d51452c4ffe807af8f6bbfd8082",
       "version_major": 2,
       "version_minor": 0
      },
      "text/plain": [
       "VBox()"
      ]
     },
     "metadata": {},
     "output_type": "display_data"
    },
    {
     "data": {
      "application/vnd.jupyter.widget-view+json": {
       "model_id": "",
       "version_major": 2,
       "version_minor": 0
      },
      "text/plain": [
       "FloatProgress(value=0.0, bar_style='info', description='Progress:', layout=Layout(height='25px', width='50%'),…"
      ]
     },
     "metadata": {},
     "output_type": "display_data"
    }
   ],
   "source": [
    "users_table.write.parquet(os.path.join(output_data, 'users'))"
   ]
  },
  {
   "cell_type": "code",
   "execution_count": 15,
   "id": "88da793a-b582-4580-9ded-0912a8fcc3c8",
   "metadata": {
    "execution": {
     "iopub.execute_input": "2022-10-26T07:05:16.287061Z",
     "iopub.status.busy": "2022-10-26T07:05:16.286638Z",
     "iopub.status.idle": "2022-10-26T07:05:16.515549Z",
     "shell.execute_reply": "2022-10-26T07:05:16.514863Z",
     "shell.execute_reply.started": "2022-10-26T07:05:16.287030Z"
    },
    "tags": []
   },
   "outputs": [
    {
     "data": {
      "application/vnd.jupyter.widget-view+json": {
       "model_id": "4bcb2e81e12c4dc6a27763a5f210c441",
       "version_major": 2,
       "version_minor": 0
      },
      "text/plain": [
       "VBox()"
      ]
     },
     "metadata": {},
     "output_type": "display_data"
    },
    {
     "data": {
      "application/vnd.jupyter.widget-view+json": {
       "model_id": "",
       "version_major": 2,
       "version_minor": 0
      },
      "text/plain": [
       "FloatProgress(value=0.0, bar_style='info', description='Progress:', layout=Layout(height='25px', width='50%'),…"
      ]
     },
     "metadata": {},
     "output_type": "display_data"
    }
   ],
   "source": [
    "get_timestamp = udf(lambda x: datetime.fromtimestamp(x/1000).strftime('%Y-%m-%d'))"
   ]
  },
  {
   "cell_type": "code",
   "execution_count": 16,
   "id": "5f847048-59b0-4adf-8e9b-11707fb9d879",
   "metadata": {
    "execution": {
     "iopub.execute_input": "2022-10-26T07:05:26.679060Z",
     "iopub.status.busy": "2022-10-26T07:05:26.678725Z",
     "iopub.status.idle": "2022-10-26T07:05:26.898339Z",
     "shell.execute_reply": "2022-10-26T07:05:26.897486Z",
     "shell.execute_reply.started": "2022-10-26T07:05:26.679027Z"
    },
    "tags": []
   },
   "outputs": [
    {
     "data": {
      "application/vnd.jupyter.widget-view+json": {
       "model_id": "b81550138e6e4ccaaab01873a1ffbe20",
       "version_major": 2,
       "version_minor": 0
      },
      "text/plain": [
       "VBox()"
      ]
     },
     "metadata": {},
     "output_type": "display_data"
    },
    {
     "data": {
      "application/vnd.jupyter.widget-view+json": {
       "model_id": "",
       "version_major": 2,
       "version_minor": 0
      },
      "text/plain": [
       "FloatProgress(value=0.0, bar_style='info', description='Progress:', layout=Layout(height='25px', width='50%'),…"
      ]
     },
     "metadata": {},
     "output_type": "display_data"
    }
   ],
   "source": [
    "df1 = df1.withColumn('timestamp', get_timestamp('ts'))"
   ]
  },
  {
   "cell_type": "code",
   "execution_count": 17,
   "id": "f80aca99-5d2c-4091-b663-5a0832fc3dbd",
   "metadata": {
    "execution": {
     "iopub.execute_input": "2022-10-26T07:05:35.252513Z",
     "iopub.status.busy": "2022-10-26T07:05:35.251914Z",
     "iopub.status.idle": "2022-10-26T07:05:35.713239Z",
     "shell.execute_reply": "2022-10-26T07:05:35.712432Z",
     "shell.execute_reply.started": "2022-10-26T07:05:35.252465Z"
    },
    "tags": []
   },
   "outputs": [
    {
     "data": {
      "application/vnd.jupyter.widget-view+json": {
       "model_id": "2150e9f962004486a9d7b667b63134c7",
       "version_major": 2,
       "version_minor": 0
      },
      "text/plain": [
       "VBox()"
      ]
     },
     "metadata": {},
     "output_type": "display_data"
    },
    {
     "data": {
      "application/vnd.jupyter.widget-view+json": {
       "model_id": "",
       "version_major": 2,
       "version_minor": 0
      },
      "text/plain": [
       "FloatProgress(value=0.0, bar_style='info', description='Progress:', layout=Layout(height='25px', width='50%'),…"
      ]
     },
     "metadata": {},
     "output_type": "display_data"
    }
   ],
   "source": [
    "time_table =  df1.select(\n",
    "                F.col(\"timestamp\").alias(\"start_time\"),\n",
    "                F.hour(\"timestamp\").alias('hour'),\n",
    "                F.dayofmonth(\"timestamp\").alias('day'),\n",
    "                F.weekofyear(\"timestamp\").alias('week'),\n",
    "                F.month(\"timestamp\").alias('month'), \n",
    "                F.year(\"timestamp\").alias('year'), \n",
    "                F.date_format(F.col(\"timestamp\"), \"E\").alias(\"weekday\")\n",
    "            )"
   ]
  },
  {
   "cell_type": "code",
   "execution_count": 20,
   "id": "b8f0063a-3ef0-4246-9dcc-81837f5af733",
   "metadata": {
    "execution": {
     "iopub.execute_input": "2022-10-26T07:06:58.846441Z",
     "iopub.status.busy": "2022-10-26T07:06:58.846026Z",
     "iopub.status.idle": "2022-10-26T07:07:14.589943Z",
     "shell.execute_reply": "2022-10-26T07:07:14.589283Z",
     "shell.execute_reply.started": "2022-10-26T07:06:58.846376Z"
    },
    "tags": []
   },
   "outputs": [
    {
     "data": {
      "application/vnd.jupyter.widget-view+json": {
       "model_id": "400daefabe65425b9dac42538953ee68",
       "version_major": 2,
       "version_minor": 0
      },
      "text/plain": [
       "VBox()"
      ]
     },
     "metadata": {},
     "output_type": "display_data"
    },
    {
     "data": {
      "application/vnd.jupyter.widget-view+json": {
       "model_id": "",
       "version_major": 2,
       "version_minor": 0
      },
      "text/plain": [
       "FloatProgress(value=0.0, bar_style='info', description='Progress:', layout=Layout(height='25px', width='50%'),…"
      ]
     },
     "metadata": {},
     "output_type": "display_data"
    }
   ],
   "source": [
    "time_table.write.parquet(os.path.join(output_data, 'time'), partitionBy=['year', 'month'])"
   ]
  },
  {
   "cell_type": "code",
   "execution_count": 21,
   "id": "2c96b45e-2301-46ca-b75a-11f6e3771001",
   "metadata": {
    "execution": {
     "iopub.execute_input": "2022-10-26T07:07:35.354205Z",
     "iopub.status.busy": "2022-10-26T07:07:35.353817Z",
     "iopub.status.idle": "2022-10-26T07:07:35.827239Z",
     "shell.execute_reply": "2022-10-26T07:07:35.826301Z",
     "shell.execute_reply.started": "2022-10-26T07:07:35.354172Z"
    },
    "tags": []
   },
   "outputs": [
    {
     "data": {
      "application/vnd.jupyter.widget-view+json": {
       "model_id": "c2f2e117400d4ecab9fa820a6a1cdc8e",
       "version_major": 2,
       "version_minor": 0
      },
      "text/plain": [
       "VBox()"
      ]
     },
     "metadata": {},
     "output_type": "display_data"
    },
    {
     "data": {
      "application/vnd.jupyter.widget-view+json": {
       "model_id": "",
       "version_major": 2,
       "version_minor": 0
      },
      "text/plain": [
       "FloatProgress(value=0.0, bar_style='info', description='Progress:', layout=Layout(height='25px', width='50%'),…"
      ]
     },
     "metadata": {},
     "output_type": "display_data"
    }
   ],
   "source": [
    "songplays_table = df1.join(\n",
    "    df,\n",
    "    (df1.song == df.title) & \n",
    "    (df1.artist == df.artist_name) &\n",
    "    (df1.length == df.duration) &\n",
    "    (year(df1.timestamp) == df.year),\n",
    "    'left_outer').select(\n",
    "    df1.timestamp.alias(\"start_time\"),\n",
    "    df1.userId.alias(\"user_id\"),\n",
    "    df1.level,\n",
    "    df.song_id,\n",
    "    df.artist_id,\n",
    "    df1.sessionId.alias(\"session_id\"),\n",
    "    df1.location,\n",
    "    df1.userAgent.alias(\"user_agent\"),\n",
    "    year(df1.timestamp).alias('year'),\n",
    "    month(df1.timestamp).alias('month')).orderBy(\"start_time\", \"user_id\").withColumn(\"songplay_id\", F.monotonically_increasing_id())"
   ]
  },
  {
   "cell_type": "code",
   "execution_count": 22,
   "id": "232ed781-31a8-47d6-a8a0-f2f9b8ee0653",
   "metadata": {
    "execution": {
     "iopub.execute_input": "2022-10-26T07:07:48.495103Z",
     "iopub.status.busy": "2022-10-26T07:07:48.494777Z",
     "iopub.status.idle": "2022-10-26T07:12:27.673244Z",
     "shell.execute_reply": "2022-10-26T07:12:27.672247Z",
     "shell.execute_reply.started": "2022-10-26T07:07:48.495073Z"
    },
    "tags": []
   },
   "outputs": [
    {
     "data": {
      "application/vnd.jupyter.widget-view+json": {
       "model_id": "0478528fdf4145009483b9d20a089137",
       "version_major": 2,
       "version_minor": 0
      },
      "text/plain": [
       "VBox()"
      ]
     },
     "metadata": {},
     "output_type": "display_data"
    },
    {
     "data": {
      "application/vnd.jupyter.widget-view+json": {
       "model_id": "",
       "version_major": 2,
       "version_minor": 0
      },
      "text/plain": [
       "FloatProgress(value=0.0, bar_style='info', description='Progress:', layout=Layout(height='25px', width='50%'),…"
      ]
     },
     "metadata": {},
     "output_type": "display_data"
    }
   ],
   "source": [
    "songplays_table.write.parquet(os.path.join(output_data, 'songplays'), partitionBy=['year', 'month'])"
   ]
  }
 ],
 "metadata": {
  "kernelspec": {
   "display_name": "PySpark",
   "language": "",
   "name": "pysparkkernel"
  },
  "language_info": {
   "codemirror_mode": {
    "name": "python",
    "version": 2
   },
   "mimetype": "text/x-python",
   "name": "pyspark",
   "pygments_lexer": "python2"
  }
 },
 "nbformat": 4,
 "nbformat_minor": 5
}
